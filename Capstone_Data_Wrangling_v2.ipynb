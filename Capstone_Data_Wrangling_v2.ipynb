{
 "cells": [
  {
   "cell_type": "markdown",
   "metadata": {},
   "source": [
    "# Springboard Intermediate Datascience - Capstone Project\n",
    "## Housing price prediction based on web data\n",
    "How accurate can our housing price prediction be, based on a few data scraped from the web ? In this project, I'll try using data I scraped on a belgian real-estate website (approx. 500 observations), from houses spread all around belgium. With this data, I'll assess whether I can obtain a fair model to predict housing price. <br>\n",
    "I'll also try dealing with the data without too much thinking about how it can impact the model, then I'll do it with the help a of real-estate professionnal and assess whether I can obtain a better model or not.\n",
    "\n",
    "#### Preliminary notes:\n",
    "Here we work with annonced prices, but not saleprices. We'll therfore predict annonced prices and not saleprices. \n",
    "People often tend to ask for too much when they sell their house.\n",
    "\n",
    "Many people like to negociate. Maybe the ideal model should propose a price based on the saleprice but not the annonced one. It should indicate the saleprice and give a price to annonce so that people can negociate (people like it and feel good when they feel like they get a deal).\n",
    "\n",
    "\n",
    "# DATA WRANGLING\n",
    "\n",
    "## Importing the data and cleaning\n",
    "\n",
    "### Important Note: the following shows first what I did without and then with the real-estate expert's advice.\n"
   ]
  },
  {
   "cell_type": "code",
   "execution_count": 1,
   "metadata": {
    "collapsed": false
   },
   "outputs": [],
   "source": [
    "import pandas as pd\n",
    "import seaborn as sns\n",
    "import matplotlib as mpl\n",
    "import matplotlib.pyplot as plt\n",
    "import numpy as np\n",
    "\n",
    "df = pd.read_csv('immoweb_scraped_data.csv')\n",
    "\n",
    "# display bigger figures in line\n",
    "mpl.rcParams['figure.figsize'] = (10,10)\n",
    "mpl.style.use('fivethirtyeight')"
   ]
  },
  {
   "cell_type": "code",
   "execution_count": 2,
   "metadata": {
    "collapsed": false
   },
   "outputs": [
    {
     "name": "stdout",
     "output_type": "stream",
     "text": [
      "<class 'pandas.core.frame.DataFrame'>\n",
      "RangeIndex: 490 entries, 0 to 489\n",
      "Columns: 110 entries, Address to Year of construction\n",
      "dtypes: float64(21), object(89)\n",
      "memory usage: 421.2+ KB\n"
     ]
    }
   ],
   "source": [
    "df.info()"
   ]
  },
  {
   "cell_type": "markdown",
   "metadata": {},
   "source": [
    "Scraping the data lead me to obtain a lot of different features (110), for not that many observations (490). Depending on the person who gave the information, the amount of features is very different from one observation to another. Let's have a look at the best-filled features (with the lower NaN rate).\n",
    "<br><br>\n",
    "Let's have a quick look at the dataframe:"
   ]
  },
  {
   "cell_type": "code",
   "execution_count": 3,
   "metadata": {
    "collapsed": false,
    "scrolled": false
   },
   "outputs": [
    {
     "name": "stdout",
     "output_type": "stream",
     "text": [
      "We initially had 110 features, but we can now keep 29 [75% filled].\n"
     ]
    }
   ],
   "source": [
    "is_count = df.count()\n",
    "#let's keep only features with 75% filled values:\n",
    "to_keep = is_count.index[is_count.values>(0.75*len(df))]\n",
    "print('We initially had {0:1d} features, but we can now keep {1:1d} [75% filled].'.format(len(is_count.index),len(to_keep)))"
   ]
  },
  {
   "cell_type": "markdown",
   "metadata": {},
   "source": [
    "Still, we may have to clean some more because some features may not be relevant. Let's have a look:"
   ]
  },
  {
   "cell_type": "code",
   "execution_count": 4,
   "metadata": {
    "collapsed": false
   },
   "outputs": [
    {
     "name": "stdout",
     "output_type": "stream",
     "text": [
      "['Address', 'As built plan', 'As property tenant or owner, insure your real estate: fire, theft, water damage, storm, ...', 'Available as of', 'Bathrooms', 'Bedroom 1 area', 'Bedrooms', 'Building condition', 'Cadastral income', 'Double glazing', 'EPC - Energy consumption', 'Find the mortgage formula and a borrowing rate that suits you the best!', 'Heating', 'Inspection report of the electrical installation', 'Kitchen setup', 'Living room', 'Net floor area', 'Number of frontages', 'Planning permission obtained', 'Plot area', 'Possible priority purchase right', 'Proceedings for breach of planning regulations', 'Reference number of the EPC report', 'Requested sale price', 'Subdivision permit', 'Terrace', 'To ensure your payments and your family safety in case of early death, you can take a Decreasing life insurance.', 'Toilets', 'Year of construction']\n"
     ]
    }
   ],
   "source": [
    "to_keep = to_keep.tolist()\n",
    "print(to_keep)"
   ]
  },
  {
   "cell_type": "markdown",
   "metadata": {},
   "source": [
    "In this list, we see \"Living room\", but not \"Living room area\" --> The area is more relevant to us and we'll therefore drop \"Living room\" (boolean) and add \"Living room area\""
   ]
  },
  {
   "cell_type": "code",
   "execution_count": 5,
   "metadata": {
    "collapsed": false
   },
   "outputs": [],
   "source": [
    "to_keep.append('Living room area')\n",
    "to_keep.remove('Living room')"
   ]
  },
  {
   "cell_type": "markdown",
   "metadata": {},
   "source": [
    "Here are the other features we can remove: 'As built plan','As property tenant or owner, insure your real estate: fire, theft, water damage, storm, ...','Available as of','Find the mortgage formula and a borrowing rate that suits you the best!','Planning permission obtained','Possible priority purchase right','Proceedings for breach of planning regulations','Reference number of the EPC report'\n",
    "\n",
    "<b>Note: </b>keeping features where I have too few observations will be difficult to manage and very uncertain (how should I fill nan's ?). I'd rather keep the features with a lot of observations for two reasons:\n",
    "<ul>\n",
    "  <li>People completed these information based on what is relevant to the buyer. I therefore expect these features to have a higher impact on the price;</li>\n",
    "  <li>The more information I have, the better for my model</li>\n",
    "</ul>\n",
    "\n",
    "These can be removed because they either are not relevant, or most of the observations are \"Not Specified\"."
   ]
  },
  {
   "cell_type": "code",
   "execution_count": 6,
   "metadata": {
    "collapsed": false
   },
   "outputs": [
    {
     "name": "stdout",
     "output_type": "stream",
     "text": [
      "To remove: 10\n",
      "Kept: 19\n"
     ]
    }
   ],
   "source": [
    "list_remove = ['As built plan','As property tenant or owner, insure your real estate: fire, theft, water damage, storm, ...','Available as of','Find the mortgage formula and a borrowing rate that suits you the best!','Planning permission obtained','Possible priority purchase right','Proceedings for breach of planning regulations','Reference number of the EPC report','To ensure your payments and your family safety in case of early death, you can take a Decreasing life insurance.','Subdivision permit']\n",
    "print(\"To remove: {0:1d}\".format(len(list_remove)))\n",
    "for ft in list_remove:\n",
    "    if ft in to_keep:\n",
    "        to_keep.remove(ft)\n",
    "print(\"Kept: {0:1d}\".format(len(to_keep)))"
   ]
  },
  {
   "cell_type": "code",
   "execution_count": 7,
   "metadata": {
    "collapsed": false
   },
   "outputs": [],
   "source": [
    "#Let's make a copy and keep a clean version of the dataframe at this point\n",
    "df1 = df[to_keep].copy()"
   ]
  },
  {
   "cell_type": "markdown",
   "metadata": {},
   "source": [
    "Let's now look at the different features and try to clean/fill the dataframe"
   ]
  },
  {
   "cell_type": "code",
   "execution_count": 8,
   "metadata": {
    "collapsed": false
   },
   "outputs": [
    {
     "data": {
      "text/plain": [
       "Index(['Address', 'Bathrooms', 'Bedroom 1 area', 'Bedrooms',\n",
       "       'Building condition', 'Cadastral income', 'Double glazing',\n",
       "       'EPC - Energy consumption', 'Heating',\n",
       "       'Inspection report of the electrical installation', 'Kitchen setup',\n",
       "       'Net floor area', 'Number of frontages', 'Plot area',\n",
       "       'Requested sale price', 'Terrace', 'Toilets', 'Year of construction',\n",
       "       'Living room area'],\n",
       "      dtype='object')"
      ]
     },
     "execution_count": 8,
     "metadata": {},
     "output_type": "execute_result"
    }
   ],
   "source": [
    "df1.columns"
   ]
  },
  {
   "cell_type": "code",
   "execution_count": 9,
   "metadata": {
    "collapsed": false
   },
   "outputs": [
    {
     "data": {
      "text/html": [
       "<div>\n",
       "<style scoped>\n",
       "    .dataframe tbody tr th:only-of-type {\n",
       "        vertical-align: middle;\n",
       "    }\n",
       "\n",
       "    .dataframe tbody tr th {\n",
       "        vertical-align: top;\n",
       "    }\n",
       "\n",
       "    .dataframe thead th {\n",
       "        text-align: right;\n",
       "    }\n",
       "</style>\n",
       "<table border=\"1\" class=\"dataframe\">\n",
       "  <thead>\n",
       "    <tr style=\"text-align: right;\">\n",
       "      <th></th>\n",
       "      <th>Address</th>\n",
       "      <th>Bathrooms</th>\n",
       "      <th>Bedroom 1 area</th>\n",
       "      <th>Bedrooms</th>\n",
       "      <th>Building condition</th>\n",
       "      <th>Cadastral income</th>\n",
       "      <th>Double glazing</th>\n",
       "      <th>EPC - Energy consumption</th>\n",
       "      <th>Heating</th>\n",
       "      <th>Inspection report of the electrical installation</th>\n",
       "      <th>Kitchen setup</th>\n",
       "      <th>Net floor area</th>\n",
       "      <th>Number of frontages</th>\n",
       "      <th>Plot area</th>\n",
       "      <th>Requested sale price</th>\n",
       "      <th>Terrace</th>\n",
       "      <th>Toilets</th>\n",
       "      <th>Year of construction</th>\n",
       "      <th>Living room area</th>\n",
       "    </tr>\n",
       "  </thead>\n",
       "  <tbody>\n",
       "    <tr>\n",
       "      <th>0</th>\n",
       "      <td>Tongersesteenweg 205        | 3770 - Riemst</td>\n",
       "      <td>1.0</td>\n",
       "      <td>18 m2</td>\n",
       "      <td>3.0</td>\n",
       "      <td>Good condition</td>\n",
       "      <td>€ 873</td>\n",
       "      <td>yes</td>\n",
       "      <td>380 kWh/m2</td>\n",
       "      <td>Fuel</td>\n",
       "      <td>yes, conform</td>\n",
       "      <td>Semi-equipped</td>\n",
       "      <td>250 m2</td>\n",
       "      <td>4.0</td>\n",
       "      <td>1,880 m2</td>\n",
       "      <td>€ 299,000</td>\n",
       "      <td>yes</td>\n",
       "      <td>2.0</td>\n",
       "      <td>1969.0</td>\n",
       "      <td>46 m2</td>\n",
       "    </tr>\n",
       "    <tr>\n",
       "      <th>1</th>\n",
       "      <td>Kerkstraat 122        | 2870 - Puurs</td>\n",
       "      <td>1.0</td>\n",
       "      <td>28 m2</td>\n",
       "      <td>3.0</td>\n",
       "      <td>To be renovated</td>\n",
       "      <td>€ 1,110</td>\n",
       "      <td>yes</td>\n",
       "      <td>576 kWh/m2</td>\n",
       "      <td>Gas</td>\n",
       "      <td>yes, not conform</td>\n",
       "      <td>Installed</td>\n",
       "      <td>338 m2</td>\n",
       "      <td>3.0</td>\n",
       "      <td>470 m2</td>\n",
       "      <td>€ 239,000</td>\n",
       "      <td>yes</td>\n",
       "      <td>3.0</td>\n",
       "      <td>1965.0</td>\n",
       "      <td>73 m2</td>\n",
       "    </tr>\n",
       "    <tr>\n",
       "      <th>2</th>\n",
       "      <td>Avenue du Putdael 3        | 1150 - Woluwe-Sai...</td>\n",
       "      <td>5.0</td>\n",
       "      <td>26 m2</td>\n",
       "      <td>4.0</td>\n",
       "      <td>As new</td>\n",
       "      <td>€ 4,858</td>\n",
       "      <td>yes</td>\n",
       "      <td>304 kWh/m2</td>\n",
       "      <td>Gas</td>\n",
       "      <td>yes, conform</td>\n",
       "      <td>USA Hyper-equipped</td>\n",
       "      <td>335 m2</td>\n",
       "      <td>4.0</td>\n",
       "      <td>794 m2</td>\n",
       "      <td>€ 1,590,000</td>\n",
       "      <td>yes</td>\n",
       "      <td>5.0</td>\n",
       "      <td>1950.0</td>\n",
       "      <td>32 m2</td>\n",
       "    </tr>\n",
       "  </tbody>\n",
       "</table>\n",
       "</div>"
      ],
      "text/plain": [
       "                                             Address  Bathrooms  \\\n",
       "0        Tongersesteenweg 205        | 3770 - Riemst        1.0   \n",
       "1               Kerkstraat 122        | 2870 - Puurs        1.0   \n",
       "2  Avenue du Putdael 3        | 1150 - Woluwe-Sai...        5.0   \n",
       "\n",
       "  Bedroom 1 area  Bedrooms Building condition Cadastral income Double glazing  \\\n",
       "0          18 m2       3.0     Good condition            € 873            yes   \n",
       "1          28 m2       3.0    To be renovated          € 1,110            yes   \n",
       "2          26 m2       4.0             As new          € 4,858            yes   \n",
       "\n",
       "  EPC - Energy consumption Heating  \\\n",
       "0               380 kWh/m2    Fuel   \n",
       "1               576 kWh/m2     Gas   \n",
       "2               304 kWh/m2     Gas   \n",
       "\n",
       "  Inspection report of the electrical installation       Kitchen setup  \\\n",
       "0                                     yes, conform       Semi-equipped   \n",
       "1                                 yes, not conform           Installed   \n",
       "2                                     yes, conform  USA Hyper-equipped   \n",
       "\n",
       "  Net floor area  Number of frontages Plot area Requested sale price Terrace  \\\n",
       "0         250 m2                  4.0  1,880 m2            € 299,000     yes   \n",
       "1         338 m2                  3.0    470 m2            € 239,000     yes   \n",
       "2         335 m2                  4.0    794 m2          € 1,590,000     yes   \n",
       "\n",
       "   Toilets  Year of construction Living room area  \n",
       "0      2.0                1969.0            46 m2  \n",
       "1      3.0                1965.0            73 m2  \n",
       "2      5.0                1950.0            32 m2  "
      ]
     },
     "execution_count": 9,
     "metadata": {},
     "output_type": "execute_result"
    }
   ],
   "source": [
    "df1.head(3)"
   ]
  },
  {
   "cell_type": "markdown",
   "metadata": {},
   "source": [
    "We can clean numeric data and scale text data for some features. We'll do this for:\n",
    "<ul>\n",
    "  <li>Price</li>\n",
    "  <li>Plot area</li>\n",
    "  <li>Bathrooms</li>\n",
    "  <li>Bedroom 1 area</li>\n",
    "  <li>Bedrooms</li>\n",
    "  <li>Building condition</li>\n",
    "  <li>Cadastral income</li>\n",
    "  <li>Double glazing</li>\n",
    "  <li>EPC - Energy consumption</li>\n",
    "  <li>Heating --> OneHotEncode ?</li>\n",
    "  <li>Inspection report of the electrical installation</li>\n",
    "  <li>Kitchen setup --> OneHoteEncode ?</li>\n",
    "  <li>Living room</li>\n",
    "  <li>Net floor area</li>\n",
    "  <li>Number of frontages</li>\n",
    "  <li>Terrace</li>\n",
    "  <li>Toilets</li>\n",
    "  <li>Year of construction</li>\n",
    "\n",
    "</ul>\n",
    "\n",
    "\n",
    "Many features can be treated the same way:"
   ]
  },
  {
   "cell_type": "code",
   "execution_count": 10,
   "metadata": {
    "collapsed": true
   },
   "outputs": [],
   "source": [
    "#Listing features for which 0's can be repalced with median (to me):\n",
    "zero_median = ['Price','Plot area','Bathrooms','Bedroom 1 area','Bedrooms','Cadastral income','EPC - Energy consumption',\\\n",
    "              'Living room area','Net floor area','Number of frontages','Toilets','Year of construction']"
   ]
  },
  {
   "cell_type": "markdown",
   "metadata": {},
   "source": [
    "But let's first clean each feature separately:"
   ]
  },
  {
   "cell_type": "code",
   "execution_count": 11,
   "metadata": {
    "collapsed": false
   },
   "outputs": [
    {
     "name": "stdout",
     "output_type": "stream",
     "text": [
      "<class 'pandas.core.frame.DataFrame'>\n",
      "RangeIndex: 490 entries, 0 to 489\n",
      "Data columns (total 19 columns):\n",
      "Address                                             490 non-null object\n",
      "Bathrooms                                           463 non-null float64\n",
      "Bedroom 1 area                                      368 non-null object\n",
      "Bedrooms                                            489 non-null float64\n",
      "Building condition                                  467 non-null object\n",
      "Cadastral income                                    452 non-null object\n",
      "Double glazing                                      383 non-null object\n",
      "EPC - Energy consumption                            472 non-null object\n",
      "Heating                                             451 non-null object\n",
      "Inspection report of the electrical installation    403 non-null object\n",
      "Kitchen setup                                       429 non-null object\n",
      "Net floor area                                      482 non-null object\n",
      "Number of frontages                                 484 non-null float64\n",
      "Plot area                                           481 non-null object\n",
      "Requested sale price                                488 non-null object\n",
      "Terrace                                             384 non-null object\n",
      "Toilets                                             460 non-null float64\n",
      "Year of construction                                428 non-null float64\n",
      "Living room area                                    351 non-null object\n",
      "dtypes: float64(5), object(14)\n",
      "memory usage: 72.8+ KB\n"
     ]
    }
   ],
   "source": [
    "df1.info()"
   ]
  },
  {
   "cell_type": "markdown",
   "metadata": {},
   "source": [
    "All non-float features that should be numeric need to be cleaned ! <br>\n",
    "Cadastral income, EPC, Living room area, Net floor area, Sale price, Plot Area, Bedroom 1 area, Toilets <br>\n",
    "We'll first fill all missing values (Nan bu also others) with zeros. Then, we'll be able to easily replace all the zeros with appropriate numerics."
   ]
  },
  {
   "cell_type": "markdown",
   "metadata": {},
   "source": [
    "#### Price:"
   ]
  },
  {
   "cell_type": "code",
   "execution_count": 12,
   "metadata": {
    "collapsed": false
   },
   "outputs": [
    {
     "data": {
      "text/plain": [
       "375      € 230,000\n",
       "168      € 229,000\n",
       "58       € 265,000\n",
       "54     € 1,395,000\n",
       "150      € 385,000\n",
       "Name: Requested sale price, dtype: object"
      ]
     },
     "execution_count": 12,
     "metadata": {},
     "output_type": "execute_result"
    }
   ],
   "source": [
    "#What does the price look like ?\n",
    "df1['Requested sale price'].sample(5)"
   ]
  },
  {
   "cell_type": "markdown",
   "metadata": {},
   "source": [
    "We need to get rid of the € sign, as well as of the commas."
   ]
  },
  {
   "cell_type": "code",
   "execution_count": 13,
   "metadata": {
    "collapsed": false
   },
   "outputs": [
    {
     "data": {
      "text/plain": [
       "14     895000\n",
       "452    495000\n",
       "415    127000\n",
       "337    115000\n",
       "62     385000\n",
       "Name: Price, dtype: int64"
      ]
     },
     "execution_count": 13,
     "metadata": {},
     "output_type": "execute_result"
    }
   ],
   "source": [
    "#no need for data if no house price !! \n",
    "df1 =df1[pd.notnull(df['Requested sale price'])].copy()\n",
    "df1['Price'] = [int(x.strip(\"€\").strip().replace(',','')) for x in df1['Requested sale price']]\n",
    "df1.drop('Requested sale price',axis=1)\n",
    "df1['Price'].sample(5)"
   ]
  },
  {
   "cell_type": "markdown",
   "metadata": {},
   "source": [
    "Any missing values ?"
   ]
  },
  {
   "cell_type": "code",
   "execution_count": 14,
   "metadata": {
    "collapsed": false
   },
   "outputs": [
    {
     "data": {
      "text/plain": [
       "0"
      ]
     },
     "execution_count": 14,
     "metadata": {},
     "output_type": "execute_result"
    }
   ],
   "source": [
    "df1['Price'].isnull().sum()"
   ]
  },
  {
   "cell_type": "markdown",
   "metadata": {},
   "source": [
    "We have no missing values for Price !<br>\n",
    "Any 0's ?"
   ]
  },
  {
   "cell_type": "code",
   "execution_count": 15,
   "metadata": {
    "collapsed": false
   },
   "outputs": [
    {
     "data": {
      "text/plain": [
       "0"
      ]
     },
     "execution_count": 15,
     "metadata": {},
     "output_type": "execute_result"
    }
   ],
   "source": [
    "sum(df1['Price']==0)"
   ]
  },
  {
   "cell_type": "code",
   "execution_count": 16,
   "metadata": {
    "collapsed": true
   },
   "outputs": [],
   "source": [
    "#Remove requested sale price column:\n",
    "df1.drop('Requested sale price', axis=1, inplace=True)"
   ]
  },
  {
   "cell_type": "markdown",
   "metadata": {},
   "source": [
    "#### Plot area:"
   ]
  },
  {
   "cell_type": "code",
   "execution_count": 17,
   "metadata": {
    "collapsed": false
   },
   "outputs": [
    {
     "data": {
      "text/plain": [
       "474      524 m2\n",
       "116      350 m2\n",
       "393      709 m2\n",
       "129    1,127 m2\n",
       "357    1,110 m2\n",
       "Name: Plot area, dtype: object"
      ]
     },
     "execution_count": 17,
     "metadata": {},
     "output_type": "execute_result"
    }
   ],
   "source": [
    "#What does the plot area look like ?\n",
    "df1['Plot area'].sample(5)"
   ]
  },
  {
   "cell_type": "markdown",
   "metadata": {},
   "source": [
    "It is given with commas and \"m2\" at the end. Let's make it an integer."
   ]
  },
  {
   "cell_type": "code",
   "execution_count": 18,
   "metadata": {
    "collapsed": false
   },
   "outputs": [
    {
     "data": {
      "text/plain": [
       "252     235\n",
       "236     491\n",
       "466    3110\n",
       "414     400\n",
       "445     100\n",
       "Name: Plot area, dtype: int64"
      ]
     },
     "execution_count": 18,
     "metadata": {},
     "output_type": "execute_result"
    }
   ],
   "source": [
    "#If NaN, then place '0 m2'\n",
    "df1[['Plot area']] = df1[['Plot area']].fillna('0 m2')\n",
    "df1['Plot area'] = [int(y.replace('m2','').strip().replace(',','')) for y in df1['Plot area']]\n",
    "df1['Plot area'].sample(5)"
   ]
  },
  {
   "cell_type": "code",
   "execution_count": 19,
   "metadata": {
    "collapsed": false
   },
   "outputs": [
    {
     "data": {
      "text/plain": [
       "0"
      ]
     },
     "execution_count": 19,
     "metadata": {},
     "output_type": "execute_result"
    }
   ],
   "source": [
    "#Missing values ?\n",
    "df1['Plot area'].isnull().sum()"
   ]
  },
  {
   "cell_type": "markdown",
   "metadata": {},
   "source": [
    "<br>\n",
    "(Bathrooms is of type float64 and no cleaning is required.)\n",
    "#### Bedroom 1 area:"
   ]
  },
  {
   "cell_type": "code",
   "execution_count": 20,
   "metadata": {
    "collapsed": false
   },
   "outputs": [
    {
     "data": {
      "text/plain": [
       "1      28 m2\n",
       "35     30 m2\n",
       "386    17 m2\n",
       "Name: Bedroom 1 area, dtype: object"
      ]
     },
     "execution_count": 20,
     "metadata": {},
     "output_type": "execute_result"
    }
   ],
   "source": [
    "df1['Bedroom 1 area'].sample(3)"
   ]
  },
  {
   "cell_type": "markdown",
   "metadata": {},
   "source": [
    "\"m²\" needs to be removed so that we have a type int."
   ]
  },
  {
   "cell_type": "code",
   "execution_count": 21,
   "metadata": {
    "collapsed": false
   },
   "outputs": [
    {
     "data": {
      "text/plain": [
       "200    18\n",
       "66     13\n",
       "15     15\n",
       "Name: Bedroom 1 area, dtype: int64"
      ]
     },
     "execution_count": 21,
     "metadata": {},
     "output_type": "execute_result"
    }
   ],
   "source": [
    "df1[['Bedroom 1 area']] = df1[['Bedroom 1 area']].fillna('0 m2')\n",
    "df1['Bedroom 1 area'] = [int(y.replace('m2','').strip().replace(',','')) for y in df1['Bedroom 1 area']]\n",
    "df1['Bedroom 1 area'].sample(3)"
   ]
  },
  {
   "cell_type": "markdown",
   "metadata": {},
   "source": [
    "#### Net Floor Area:"
   ]
  },
  {
   "cell_type": "code",
   "execution_count": 22,
   "metadata": {
    "collapsed": false
   },
   "outputs": [
    {
     "data": {
      "text/plain": [
       "433    168 m2\n",
       "190    110 m2\n",
       "236    120 m2\n",
       "Name: Net floor area, dtype: object"
      ]
     },
     "execution_count": 22,
     "metadata": {},
     "output_type": "execute_result"
    }
   ],
   "source": [
    "df1['Net floor area'].sample(3)"
   ]
  },
  {
   "cell_type": "code",
   "execution_count": 23,
   "metadata": {
    "collapsed": false
   },
   "outputs": [
    {
     "data": {
      "text/plain": [
       "223    895\n",
       "100    620\n",
       "225    250\n",
       "Name: Net floor area, dtype: int64"
      ]
     },
     "execution_count": 23,
     "metadata": {},
     "output_type": "execute_result"
    }
   ],
   "source": [
    "df1[['Net floor area']] = df1[['Net floor area']].fillna('0 m2')\n",
    "df1['Net floor area'] = [int(y.replace('m2','').strip().replace(',','')) for y in df1['Net floor area']]\n",
    "df1['Net floor area'].sample(3)"
   ]
  },
  {
   "cell_type": "markdown",
   "metadata": {},
   "source": [
    "#### Living room area:"
   ]
  },
  {
   "cell_type": "code",
   "execution_count": 24,
   "metadata": {
    "collapsed": false
   },
   "outputs": [
    {
     "data": {
      "text/plain": [
       "330    43 m2\n",
       "458    40 m2\n",
       "20     75 m2\n",
       "Name: Living room area, dtype: object"
      ]
     },
     "execution_count": 24,
     "metadata": {},
     "output_type": "execute_result"
    }
   ],
   "source": [
    "df1['Living room area'].sample(3)"
   ]
  },
  {
   "cell_type": "code",
   "execution_count": 25,
   "metadata": {
    "collapsed": false
   },
   "outputs": [
    {
     "data": {
      "text/plain": [
       "269    42\n",
       "394     0\n",
       "338    13\n",
       "Name: Living room area, dtype: int64"
      ]
     },
     "execution_count": 25,
     "metadata": {},
     "output_type": "execute_result"
    }
   ],
   "source": [
    "df1[['Living room area']] = df1[['Living room area']].fillna('0 m2')\n",
    "df1['Living room area'] = [int(y.replace('m2','').strip().replace(',','')) for y in df1['Living room area']]\n",
    "df1['Living room area'].sample(3)"
   ]
  },
  {
   "cell_type": "markdown",
   "metadata": {},
   "source": [
    "#### EPC - Energy consumption:"
   ]
  },
  {
   "cell_type": "code",
   "execution_count": 26,
   "metadata": {
    "collapsed": false
   },
   "outputs": [
    {
     "data": {
      "text/plain": [
       "73     496 kWh/m2\n",
       "166    154 kWh/m2\n",
       "154    216 kWh/m2\n",
       "Name: EPC - Energy consumption, dtype: object"
      ]
     },
     "execution_count": 26,
     "metadata": {},
     "output_type": "execute_result"
    }
   ],
   "source": [
    "df1['EPC - Energy consumption'].sample(3)"
   ]
  },
  {
   "cell_type": "code",
   "execution_count": 27,
   "metadata": {
    "collapsed": false
   },
   "outputs": [
    {
     "data": {
      "text/plain": [
       "14     557\n",
       "406    753\n",
       "303    676\n",
       "Name: EPC - Energy consumption, dtype: int64"
      ]
     },
     "execution_count": 27,
     "metadata": {},
     "output_type": "execute_result"
    }
   ],
   "source": [
    "df1['EPC - Energy consumption'].replace('not specified',np.nan,inplace=True) #some observations are \"not specified\". Replaced by NaN\n",
    "df1[['EPC - Energy consumption']] = df1[['EPC - Energy consumption']].fillna('0 kWh/m2')\n",
    "df1['EPC - Energy consumption'] = [int(y.replace('kWh/m2','').strip().replace(',','')) for y in df1['EPC - Energy consumption']]\n",
    "df1['EPC - Energy consumption'].sample(3)"
   ]
  },
  {
   "cell_type": "markdown",
   "metadata": {},
   "source": [
    "#### Cadastral income:"
   ]
  },
  {
   "cell_type": "code",
   "execution_count": 28,
   "metadata": {
    "collapsed": false
   },
   "outputs": [
    {
     "data": {
      "text/plain": [
       "428      € 480\n",
       "240        NaN\n",
       "282    € 5,515\n",
       "Name: Cadastral income, dtype: object"
      ]
     },
     "execution_count": 28,
     "metadata": {},
     "output_type": "execute_result"
    }
   ],
   "source": [
    "df1['Cadastral income'].sample(3)"
   ]
  },
  {
   "cell_type": "code",
   "execution_count": 29,
   "metadata": {
    "collapsed": false
   },
   "outputs": [
    {
     "data": {
      "text/plain": [
       "395     761\n",
       "148    7229\n",
       "339     436\n",
       "Name: Cadastral income, dtype: int64"
      ]
     },
     "execution_count": 29,
     "metadata": {},
     "output_type": "execute_result"
    }
   ],
   "source": [
    "df1['Cadastral income'] = df1['Cadastral income'].fillna('0')\n",
    "df1['Cadastral income'] = [int(x.replace('€','').strip().replace(',','')) for x in df1['Cadastral income']]\n",
    "df1['Cadastral income'].sample(3)"
   ]
  },
  {
   "cell_type": "markdown",
   "metadata": {},
   "source": [
    "#### Bathrooms : \n",
    "As seen previously: Bathrooms 463 non-null float64<br>\n",
    "We only need to fill missing values for now."
   ]
  },
  {
   "cell_type": "code",
   "execution_count": 30,
   "metadata": {
    "collapsed": true
   },
   "outputs": [],
   "source": [
    "df1['Bathrooms'] = df1['Bathrooms'].fillna('0')"
   ]
  },
  {
   "cell_type": "markdown",
   "metadata": {},
   "source": [
    "### Filling all the zeroes:\n",
    "We'll replace all zeros with the median for each column. It is not a problem here as we only kept features with a few missing values.\n",
    "We can do this with Bedrooms, Number of frontages, Toilets, Year of construction."
   ]
  },
  {
   "cell_type": "code",
   "execution_count": 31,
   "metadata": {
    "collapsed": false,
    "scrolled": false
   },
   "outputs": [
    {
     "name": "stderr",
     "output_type": "stream",
     "text": [
      "C:\\Users\\gmignot\\AppData\\Local\\Continuum\\Anaconda3\\lib\\site-packages\\ipykernel\\__main__.py:7: SettingWithCopyWarning: \n",
      "A value is trying to be set on a copy of a slice from a DataFrame\n",
      "\n",
      "See the caveats in the documentation: http://pandas.pydata.org/pandas-docs/stable/indexing.html#indexing-view-versus-copy\n"
     ]
    }
   ],
   "source": [
    "#first let's make sure all Nan's have been converted to zeros in these columns: \n",
    "numerics = ['Price','Plot area','Cadastral income','EPC - Energy consumption','Living room area','Net floor area',\\\n",
    "            'Bedroom 1 area','Toilets','Bedrooms','Number of frontages','Year of construction','Bathrooms']\n",
    "for ft in  numerics:\n",
    "    df1[ft]=df1[ft].astype(float)\n",
    "    if df1[ft].isnull().sum() != 0: #if we have some Nans\n",
    "        df1[ft].fillna(0,inplace=True)\n",
    "    df1[ft][df1[ft]==0] = np.median(df1[ft])"
   ]
  },
  {
   "cell_type": "code",
   "execution_count": 32,
   "metadata": {
    "collapsed": false
   },
   "outputs": [
    {
     "name": "stdout",
     "output_type": "stream",
     "text": [
      "<class 'pandas.core.frame.DataFrame'>\n",
      "Int64Index: 488 entries, 0 to 489\n",
      "Data columns (total 19 columns):\n",
      "Address                                             488 non-null object\n",
      "Bathrooms                                           488 non-null float64\n",
      "Bedroom 1 area                                      488 non-null float64\n",
      "Bedrooms                                            488 non-null float64\n",
      "Building condition                                  465 non-null object\n",
      "Cadastral income                                    488 non-null float64\n",
      "Double glazing                                      381 non-null object\n",
      "EPC - Energy consumption                            488 non-null float64\n",
      "Heating                                             449 non-null object\n",
      "Inspection report of the electrical installation    401 non-null object\n",
      "Kitchen setup                                       427 non-null object\n",
      "Net floor area                                      488 non-null float64\n",
      "Number of frontages                                 488 non-null float64\n",
      "Plot area                                           488 non-null float64\n",
      "Terrace                                             383 non-null object\n",
      "Toilets                                             488 non-null float64\n",
      "Year of construction                                488 non-null float64\n",
      "Living room area                                    488 non-null float64\n",
      "Price                                               488 non-null float64\n",
      "dtypes: float64(12), object(7)\n",
      "memory usage: 76.2+ KB\n"
     ]
    }
   ],
   "source": [
    "df1.info()"
   ]
  },
  {
   "cell_type": "markdown",
   "metadata": {},
   "source": [
    "All cleaned features now have 488 non-null values."
   ]
  },
  {
   "cell_type": "code",
   "execution_count": 33,
   "metadata": {
    "collapsed": true
   },
   "outputs": [],
   "source": [
    "#Function to plot count of features:\n",
    "def display_count(df,feature):\n",
    "    from collections import Counter\n",
    "    count = Counter(df[feature])\n",
    "    df_count = pd.DataFrame.from_dict(count, orient='index')\n",
    "    df_count.plot(kind='bar')\n",
    "    plt.title('Count of ' + feature)\n",
    "    plt.show()"
   ]
  },
  {
   "cell_type": "markdown",
   "metadata": {},
   "source": [
    "#### Building Condition"
   ]
  },
  {
   "cell_type": "code",
   "execution_count": 34,
   "metadata": {
    "collapsed": false
   },
   "outputs": [
    {
     "data": {
      "text/plain": [
       "23"
      ]
     },
     "execution_count": 34,
     "metadata": {},
     "output_type": "execute_result"
    }
   ],
   "source": [
    "df1['Building condition'].isnull().sum()"
   ]
  },
  {
   "cell_type": "code",
   "execution_count": 35,
   "metadata": {
    "collapsed": false
   },
   "outputs": [
    {
     "data": {
      "image/png": "[encoded data removed]",
      "text/plain": [
       "<matplotlib.figure.Figure at 0x2708283e4a8>"
      ]
     },
     "metadata": {},
     "output_type": "display_data"
    }
   ],
   "source": [
    "display_count(df1,'Building condition')"
   ]
  },
  {
   "cell_type": "markdown",
   "metadata": {},
   "source": [
    "Let's consider Nan to be in good condition, as it is the most common state.\n",
    "But house condition is subjective. Maybe it would be better to not consider this as an owner will probably set it at his advantage ? I don't know.."
   ]
  },
  {
   "cell_type": "code",
   "execution_count": 36,
   "metadata": {
    "collapsed": true
   },
   "outputs": [],
   "source": [
    "df1['Building condition'] = df1['Building condition'].fillna('Good condition')"
   ]
  },
  {
   "cell_type": "code",
   "execution_count": 37,
   "metadata": {
    "collapsed": false
   },
   "outputs": [
    {
     "data": {
      "text/plain": [
       "0"
      ]
     },
     "execution_count": 37,
     "metadata": {},
     "output_type": "execute_result"
    }
   ],
   "source": [
    "df1['Building condition'].isnull().sum()"
   ]
  },
  {
   "cell_type": "markdown",
   "metadata": {},
   "source": [
    "#### Double Glazing\n",
    "\n",
    "Maybe gthis criteria is correlated to energy consumption, with heating. Indeed, based on heating an glazing, the consumption will increase/decrease accordingly."
   ]
  },
  {
   "cell_type": "code",
   "execution_count": 38,
   "metadata": {
    "collapsed": false
   },
   "outputs": [
    {
     "data": {
      "text/plain": [
       "107"
      ]
     },
     "execution_count": 38,
     "metadata": {},
     "output_type": "execute_result"
    }
   ],
   "source": [
    "df1['Double glazing'].isnull().sum()"
   ]
  },
  {
   "cell_type": "markdown",
   "metadata": {},
   "source": [
    "This feature either gives YES or Nan --> As double glazing is really important for the buyer, I expect every seller to notify it if there is (it is not something you forget to mention). Therefore all blanks represent the 'No' answer."
   ]
  },
  {
   "cell_type": "code",
   "execution_count": 39,
   "metadata": {
    "collapsed": true
   },
   "outputs": [],
   "source": [
    "df1['Double glazing'] = df1['Double glazing'].fillna('no')"
   ]
  },
  {
   "cell_type": "code",
   "execution_count": 40,
   "metadata": {
    "collapsed": false
   },
   "outputs": [
    {
     "data": {
      "text/plain": [
       "0"
      ]
     },
     "execution_count": 40,
     "metadata": {},
     "output_type": "execute_result"
    }
   ],
   "source": [
    "df1['Double glazing'].isnull().sum()"
   ]
  },
  {
   "cell_type": "code",
   "execution_count": 41,
   "metadata": {
    "collapsed": false,
    "scrolled": false
   },
   "outputs": [
    {
     "data": {
      "image/png": "[encoded data removed]",
      "text/plain": [
       "<matplotlib.figure.Figure at 0x270828e1a58>"
      ]
     },
     "metadata": {},
     "output_type": "display_data"
    }
   ],
   "source": [
    "display_count(df1,'Double glazing')"
   ]
  },
  {
   "cell_type": "markdown",
   "metadata": {},
   "source": [
    "#### Kitchen Setup\n",
    "\n",
    "Transofr into boolean --> Equipped or not.\n",
    "\n",
    "Equipped = Installed, USA Hyper equipped, USA installed, Hyper-equipped\n",
    "Non-equipped = Semi-equipped, Uninstalled, USA semi-equipped"
   ]
  },
  {
   "cell_type": "code",
   "execution_count": 42,
   "metadata": {
    "collapsed": false
   },
   "outputs": [
    {
     "data": {
      "image/png": "[encoded data removed]",
      "text/plain": [
       "<matplotlib.figure.Figure at 0x27082ecd390>"
      ]
     },
     "metadata": {},
     "output_type": "display_data"
    }
   ],
   "source": [
    "display_count(df1,'Kitchen setup')"
   ]
  },
  {
   "cell_type": "markdown",
   "metadata": {},
   "source": [
    "\"Installed\" seems to be default for the houses. Let's fill nans with \"Installed\". "
   ]
  },
  {
   "cell_type": "code",
   "execution_count": 43,
   "metadata": {
    "collapsed": true
   },
   "outputs": [],
   "source": [
    "df1['Kitchen setup'] = df1['Kitchen setup'].fillna('Installed')"
   ]
  },
  {
   "cell_type": "markdown",
   "metadata": {},
   "source": [
    "#### Heating: "
   ]
  },
  {
   "cell_type": "code",
   "execution_count": 44,
   "metadata": {
    "collapsed": false
   },
   "outputs": [
    {
     "data": {
      "image/png": "[encoded data removed]",
      "text/plain": [
       "<matplotlib.figure.Figure at 0x27082df8048>"
      ]
     },
     "metadata": {},
     "output_type": "display_data"
    }
   ],
   "source": [
    "display_count(df1,'Heating')"
   ]
  },
  {
   "cell_type": "markdown",
   "metadata": {},
   "source": [
    "Heating is mosly gas --> Let's fill the few Nan's with 'Gas':"
   ]
  },
  {
   "cell_type": "code",
   "execution_count": 45,
   "metadata": {
    "collapsed": true
   },
   "outputs": [],
   "source": [
    "df1['Heating'] = df1['Heating'].fillna('Gas')"
   ]
  },
  {
   "cell_type": "markdown",
   "metadata": {},
   "source": [
    "#### Inspection report of the electrical installation\n",
    "\n",
    "As for double glazing, we expect owners with a conform electrical installation to mention it as it is a value adder for the house. We'll consider all Nan's to be 'no'."
   ]
  },
  {
   "cell_type": "code",
   "execution_count": 46,
   "metadata": {
    "collapsed": false
   },
   "outputs": [],
   "source": [
    "df1['Inspection report of the electrical installation'] = df1['Inspection report of the electrical installation'].fillna('no')"
   ]
  },
  {
   "cell_type": "markdown",
   "metadata": {},
   "source": [
    "#### Terrace\n",
    "Same as above."
   ]
  },
  {
   "cell_type": "code",
   "execution_count": 47,
   "metadata": {
    "collapsed": true
   },
   "outputs": [],
   "source": [
    "df1['Terrace'] = df1['Terrace'].fillna('no')"
   ]
  },
  {
   "cell_type": "code",
   "execution_count": 48,
   "metadata": {
    "collapsed": false
   },
   "outputs": [
    {
     "name": "stdout",
     "output_type": "stream",
     "text": [
      "<class 'pandas.core.frame.DataFrame'>\n",
      "Int64Index: 488 entries, 0 to 489\n",
      "Data columns (total 19 columns):\n",
      "Address                                             488 non-null object\n",
      "Bathrooms                                           488 non-null float64\n",
      "Bedroom 1 area                                      488 non-null float64\n",
      "Bedrooms                                            488 non-null float64\n",
      "Building condition                                  488 non-null object\n",
      "Cadastral income                                    488 non-null float64\n",
      "Double glazing                                      488 non-null object\n",
      "EPC - Energy consumption                            488 non-null float64\n",
      "Heating                                             488 non-null object\n",
      "Inspection report of the electrical installation    488 non-null object\n",
      "Kitchen setup                                       488 non-null object\n",
      "Net floor area                                      488 non-null float64\n",
      "Number of frontages                                 488 non-null float64\n",
      "Plot area                                           488 non-null float64\n",
      "Terrace                                             488 non-null object\n",
      "Toilets                                             488 non-null float64\n",
      "Year of construction                                488 non-null float64\n",
      "Living room area                                    488 non-null float64\n",
      "Price                                               488 non-null float64\n",
      "dtypes: float64(12), object(7)\n",
      "memory usage: 76.2+ KB\n"
     ]
    }
   ],
   "source": [
    "df1.info()"
   ]
  },
  {
   "cell_type": "markdown",
   "metadata": {},
   "source": [
    "### Encoding : \n",
    "Now that we have our dataframe completed, let's work a bit more on the non-numeric entries so that we can use these for the model."
   ]
  },
  {
   "cell_type": "code",
   "execution_count": 49,
   "metadata": {
    "collapsed": true
   },
   "outputs": [],
   "source": [
    "df2 = df1.copy()"
   ]
  },
  {
   "cell_type": "code",
   "execution_count": 50,
   "metadata": {
    "collapsed": true
   },
   "outputs": [],
   "source": [
    "df2 = pd.get_dummies(df2,columns=['Building condition','Double glazing','Kitchen setup','Heating','Terrace','Inspection report of the electrical installation'], prefix=['condition','double_glazing','kitchen','heating','terrace','elec_report'])"
   ]
  },
  {
   "cell_type": "code",
   "execution_count": 51,
   "metadata": {
    "collapsed": false
   },
   "outputs": [
    {
     "data": {
      "text/html": [
       "<div>\n",
       "<style scoped>\n",
       "    .dataframe tbody tr th:only-of-type {\n",
       "        vertical-align: middle;\n",
       "    }\n",
       "\n",
       "    .dataframe tbody tr th {\n",
       "        vertical-align: top;\n",
       "    }\n",
       "\n",
       "    .dataframe thead th {\n",
       "        text-align: right;\n",
       "    }\n",
       "</style>\n",
       "<table border=\"1\" class=\"dataframe\">\n",
       "  <thead>\n",
       "    <tr style=\"text-align: right;\">\n",
       "      <th></th>\n",
       "      <th>Address</th>\n",
       "      <th>Bathrooms</th>\n",
       "      <th>Bedroom 1 area</th>\n",
       "      <th>Bedrooms</th>\n",
       "      <th>Cadastral income</th>\n",
       "      <th>EPC - Energy consumption</th>\n",
       "      <th>Net floor area</th>\n",
       "      <th>Number of frontages</th>\n",
       "      <th>Plot area</th>\n",
       "      <th>Toilets</th>\n",
       "      <th>...</th>\n",
       "      <th>heating_Electric</th>\n",
       "      <th>heating_Fuel</th>\n",
       "      <th>heating_Gas</th>\n",
       "      <th>heating_Pellet</th>\n",
       "      <th>heating_Wood</th>\n",
       "      <th>terrace_no</th>\n",
       "      <th>terrace_yes</th>\n",
       "      <th>elec_report_no</th>\n",
       "      <th>elec_report_yes, conform</th>\n",
       "      <th>elec_report_yes, not conform</th>\n",
       "    </tr>\n",
       "  </thead>\n",
       "  <tbody>\n",
       "    <tr>\n",
       "      <th>0</th>\n",
       "      <td>Tongersesteenweg 205        | 3770 - Riemst</td>\n",
       "      <td>1.0</td>\n",
       "      <td>18.0</td>\n",
       "      <td>3.0</td>\n",
       "      <td>873.0</td>\n",
       "      <td>380.0</td>\n",
       "      <td>250.0</td>\n",
       "      <td>4.0</td>\n",
       "      <td>1880.0</td>\n",
       "      <td>2.0</td>\n",
       "      <td>...</td>\n",
       "      <td>0</td>\n",
       "      <td>1</td>\n",
       "      <td>0</td>\n",
       "      <td>0</td>\n",
       "      <td>0</td>\n",
       "      <td>0</td>\n",
       "      <td>1</td>\n",
       "      <td>0</td>\n",
       "      <td>1</td>\n",
       "      <td>0</td>\n",
       "    </tr>\n",
       "    <tr>\n",
       "      <th>1</th>\n",
       "      <td>Kerkstraat 122        | 2870 - Puurs</td>\n",
       "      <td>1.0</td>\n",
       "      <td>28.0</td>\n",
       "      <td>3.0</td>\n",
       "      <td>1110.0</td>\n",
       "      <td>576.0</td>\n",
       "      <td>338.0</td>\n",
       "      <td>3.0</td>\n",
       "      <td>470.0</td>\n",
       "      <td>3.0</td>\n",
       "      <td>...</td>\n",
       "      <td>0</td>\n",
       "      <td>0</td>\n",
       "      <td>1</td>\n",
       "      <td>0</td>\n",
       "      <td>0</td>\n",
       "      <td>0</td>\n",
       "      <td>1</td>\n",
       "      <td>0</td>\n",
       "      <td>0</td>\n",
       "      <td>1</td>\n",
       "    </tr>\n",
       "    <tr>\n",
       "      <th>2</th>\n",
       "      <td>Avenue du Putdael 3        | 1150 - Woluwe-Sai...</td>\n",
       "      <td>5.0</td>\n",
       "      <td>26.0</td>\n",
       "      <td>4.0</td>\n",
       "      <td>4858.0</td>\n",
       "      <td>304.0</td>\n",
       "      <td>335.0</td>\n",
       "      <td>4.0</td>\n",
       "      <td>794.0</td>\n",
       "      <td>5.0</td>\n",
       "      <td>...</td>\n",
       "      <td>0</td>\n",
       "      <td>0</td>\n",
       "      <td>1</td>\n",
       "      <td>0</td>\n",
       "      <td>0</td>\n",
       "      <td>0</td>\n",
       "      <td>1</td>\n",
       "      <td>0</td>\n",
       "      <td>1</td>\n",
       "      <td>0</td>\n",
       "    </tr>\n",
       "    <tr>\n",
       "      <th>3</th>\n",
       "      <td>Elie Aubinaustraat 29        | 1932 - Zaventem</td>\n",
       "      <td>1.0</td>\n",
       "      <td>14.0</td>\n",
       "      <td>5.0</td>\n",
       "      <td>899.0</td>\n",
       "      <td>687.0</td>\n",
       "      <td>189.0</td>\n",
       "      <td>3.0</td>\n",
       "      <td>1220.0</td>\n",
       "      <td>1.0</td>\n",
       "      <td>...</td>\n",
       "      <td>0</td>\n",
       "      <td>0</td>\n",
       "      <td>1</td>\n",
       "      <td>0</td>\n",
       "      <td>0</td>\n",
       "      <td>1</td>\n",
       "      <td>0</td>\n",
       "      <td>0</td>\n",
       "      <td>0</td>\n",
       "      <td>1</td>\n",
       "    </tr>\n",
       "    <tr>\n",
       "      <th>4</th>\n",
       "      <td>Dendermondsesteenweg 20        | 2830 - Willeb...</td>\n",
       "      <td>1.0</td>\n",
       "      <td>13.0</td>\n",
       "      <td>2.0</td>\n",
       "      <td>255.0</td>\n",
       "      <td>164.0</td>\n",
       "      <td>120.0</td>\n",
       "      <td>2.0</td>\n",
       "      <td>115.0</td>\n",
       "      <td>2.0</td>\n",
       "      <td>...</td>\n",
       "      <td>0</td>\n",
       "      <td>0</td>\n",
       "      <td>1</td>\n",
       "      <td>0</td>\n",
       "      <td>0</td>\n",
       "      <td>0</td>\n",
       "      <td>1</td>\n",
       "      <td>0</td>\n",
       "      <td>1</td>\n",
       "      <td>0</td>\n",
       "    </tr>\n",
       "  </tbody>\n",
       "</table>\n",
       "<p>5 rows × 37 columns</p>\n",
       "</div>"
      ],
      "text/plain": [
       "                                             Address  Bathrooms  \\\n",
       "0        Tongersesteenweg 205        | 3770 - Riemst        1.0   \n",
       "1               Kerkstraat 122        | 2870 - Puurs        1.0   \n",
       "2  Avenue du Putdael 3        | 1150 - Woluwe-Sai...        5.0   \n",
       "3     Elie Aubinaustraat 29        | 1932 - Zaventem        1.0   \n",
       "4  Dendermondsesteenweg 20        | 2830 - Willeb...        1.0   \n",
       "\n",
       "   Bedroom 1 area  Bedrooms  Cadastral income  EPC - Energy consumption  \\\n",
       "0            18.0       3.0             873.0                     380.0   \n",
       "1            28.0       3.0            1110.0                     576.0   \n",
       "2            26.0       4.0            4858.0                     304.0   \n",
       "3            14.0       5.0             899.0                     687.0   \n",
       "4            13.0       2.0             255.0                     164.0   \n",
       "\n",
       "   Net floor area  Number of frontages  Plot area  Toilets  \\\n",
       "0           250.0                  4.0     1880.0      2.0   \n",
       "1           338.0                  3.0      470.0      3.0   \n",
       "2           335.0                  4.0      794.0      5.0   \n",
       "3           189.0                  3.0     1220.0      1.0   \n",
       "4           120.0                  2.0      115.0      2.0   \n",
       "\n",
       "               ...               heating_Electric  heating_Fuel  heating_Gas  \\\n",
       "0              ...                              0             1            0   \n",
       "1              ...                              0             0            1   \n",
       "2              ...                              0             0            1   \n",
       "3              ...                              0             0            1   \n",
       "4              ...                              0             0            1   \n",
       "\n",
       "   heating_Pellet  heating_Wood  terrace_no  terrace_yes  elec_report_no  \\\n",
       "0               0             0           0            1               0   \n",
       "1               0             0           0            1               0   \n",
       "2               0             0           0            1               0   \n",
       "3               0             0           1            0               0   \n",
       "4               0             0           0            1               0   \n",
       "\n",
       "   elec_report_yes, conform  elec_report_yes, not conform  \n",
       "0                         1                             0  \n",
       "1                         0                             1  \n",
       "2                         1                             0  \n",
       "3                         0                             1  \n",
       "4                         1                             0  \n",
       "\n",
       "[5 rows x 37 columns]"
      ]
     },
     "execution_count": 51,
     "metadata": {},
     "output_type": "execute_result"
    }
   ],
   "source": [
    "df2.head()"
   ]
  },
  {
   "cell_type": "markdown",
   "metadata": {},
   "source": [
    "#### Taking care of the location:\n",
    "Let's first try a model without longitude and latitude. We'll then see if we can improve our model with precise location."
   ]
  },
  {
   "cell_type": "code",
   "execution_count": 52,
   "metadata": {
    "collapsed": false,
    "scrolled": true
   },
   "outputs": [],
   "source": [
    "df1['Address'] = [y.replace('|','').strip() for y in df1['Address']]\n",
    "df1['Address']=[' '.join(y.split()) for y in df1['Address']]\n",
    "df1['Address']=[y.replace('Ask for the exact address','') for y in df1['Address']]"
   ]
  },
  {
   "cell_type": "code",
   "execution_count": 53,
   "metadata": {
    "collapsed": true
   },
   "outputs": [],
   "source": [
    "# #Address --> Lat. Long.\n",
    "\n",
    "# import os\n",
    "# from geopy import geocoders\n",
    "# from geopy.geocoders import GoogleV3\n",
    "\n",
    "# cpt=1\n",
    "\n",
    "# API_KEY = os.getenv(\"API1234\")\n",
    "# g = GoogleV3(API_KEY)\n",
    "\n",
    "# loc_coordinates = []\n",
    "# loc_address = []\n",
    "# for address in df1.Address:\n",
    "#     try:\n",
    "#         inputAddress = address\n",
    "#         location = g.geocode(inputAddress)\n",
    "#         loc_coordinates.append((location.latitude, location.longitude))\n",
    "#         loc_address.append(inputAddress)\n",
    "#     except Exception as e:\n",
    "#         print('{0:1d} : '.format(cpt), address, e)\n",
    "#         cpt+=1\n",
    "\n",
    "# df_geocodes = pd.DataFrame({'coordinate':loc_coordinates,'address':loc_address})"
   ]
  },
  {
   "cell_type": "markdown",
   "metadata": {},
   "source": [
    "As we have very few observations spread all around belgium, let's drop this feature."
   ]
  },
  {
   "cell_type": "code",
   "execution_count": 54,
   "metadata": {
    "collapsed": true
   },
   "outputs": [],
   "source": [
    "df1.drop('Address',axis=1,inplace=True)"
   ]
  },
  {
   "cell_type": "markdown",
   "metadata": {},
   "source": [
    "## Notes from the real-estate expert:\n",
    "\n",
    "<ul>\n",
    "  <li>EPC : in the following, we'll also consider heating and glazing. Altogether, these 3 variables are somehow redundant. The EPC score is calculated based on - among other things - galzing and heating. For our expert's dataset (let's call it this way), we'll drop this variable.</li>\n",
    "  <li>Cadastral income: maybe we should not consider cadastral income in the analysis, as it is a consequence of the house price. But we could use it to check whether our tool worked properly. If the difference is too big between house price estimated with cadastral income and house price estimated with our tool, then we can display some text saying that there is a mismatch. If it's quite concording, it can increase confidence in the model.</li>\n",
    "  <li>Year of construct : makes no sense as a really old house can be renovated and therefore be super great. it is not advised to take this into account !</li>\n",
    "  <li>Indoor parking spaces: this feature should be kept as it is really important to people living downtown. All missing values can be replaced with zero as we can expect the seller to mention it if there is one.</li>\n",
    "  <li>Kitchen setup: this criteria can be seen as boolean (equipped or not). Nan's are not equipped.</li>\n",
    "<li>Heating: this variable is almost binary. Gas and fuel are nice to have, but having other forms of heating has no added value when you decide to buy a house. For example, buying electric heaters is cheap but costs a lot to use.</li>\n",
    "<li>Toilets/bathrooms: every house has at least one toilet/bathroom. This feature could be seen as a boolen where having multiple toilets/bathrooms is (1) and having one is standard (0).</li>\n",
    "</ul>\n",
    "\n",
    "<b>Additional notes:</b> \n",
    "<ul>\n",
    "    <li>Here we work with annonced prices and not saleprices. We'll therefore predict annonced prices. This information is to interpret carefully as people often tend to ask for too much for their house. Furthermore, buyers like to negociate and feel like they make a good deal. A good model should give the saleprice and indicate a good price to annonce so that the required saleprice is reached.</li>\n",
    "</ul>\n",
    "\n",
    "<br><br>\n",
    "\n",
    "### Expert's dataset [\"_e\"]\n",
    "Let's now take all these advices into account, and build our expert's dataset."
   ]
  },
  {
   "cell_type": "code",
   "execution_count": 55,
   "metadata": {
    "collapsed": true
   },
   "outputs": [],
   "source": [
    "df1_e = df1.copy()"
   ]
  },
  {
   "cell_type": "markdown",
   "metadata": {},
   "source": [
    "We need to clean differently for Kitchen setup, Heating, Toilets, Bathrooms. Building condition, EPC Energy consumption, cadastral income, year of construct can be dropped."
   ]
  },
  {
   "cell_type": "code",
   "execution_count": 56,
   "metadata": {
    "collapsed": false
   },
   "outputs": [],
   "source": [
    "#Replacing already cleaning features with initial data + adding parking spaces\n",
    "df1_e['Kitchen setup'] = df['Kitchen setup']\n",
    "df1_e['Heating'] = df['Heating']\n",
    "df1_e['Toilets']= df['Toilets']\n",
    "df1_e['Bathrooms']= df['Bathrooms']\n",
    "df1_e['Indoor parkings'] = df['Indoor parking spaces']\n",
    "\n",
    "#Dropping features\n",
    "df1_e.drop('EPC - Energy consumption',axis=1,inplace=True)\n",
    "df1_e.drop('Cadastral income',axis=1,inplace=True)\n",
    "df1_e.drop('Year of construction',axis=1,inplace=True)\n",
    "df1_e.drop('Building condition',axis=1,inplace=True)\n",
    "df1_e.drop('Inspection report of the electrical installation',axis=1,inplace=True)"
   ]
  },
  {
   "cell_type": "code",
   "execution_count": 57,
   "metadata": {
    "collapsed": false
   },
   "outputs": [
    {
     "name": "stdout",
     "output_type": "stream",
     "text": [
      "<class 'pandas.core.frame.DataFrame'>\n",
      "Int64Index: 488 entries, 0 to 489\n",
      "Data columns (total 14 columns):\n",
      "Bathrooms              461 non-null float64\n",
      "Bedroom 1 area         488 non-null float64\n",
      "Bedrooms               488 non-null float64\n",
      "Double glazing         488 non-null object\n",
      "Heating                449 non-null object\n",
      "Kitchen setup          427 non-null object\n",
      "Net floor area         488 non-null float64\n",
      "Number of frontages    488 non-null float64\n",
      "Plot area              488 non-null float64\n",
      "Terrace                488 non-null object\n",
      "Toilets                458 non-null float64\n",
      "Living room area       488 non-null float64\n",
      "Price                  488 non-null float64\n",
      "Indoor parkings        320 non-null float64\n",
      "dtypes: float64(10), object(4)\n",
      "memory usage: 57.2+ KB\n"
     ]
    }
   ],
   "source": [
    "df1_e.info()"
   ]
  },
  {
   "cell_type": "markdown",
   "metadata": {},
   "source": [
    "We still have 15 features. Now time for cleaning, according to above advices.\n",
    "#### Toilets and Bathrooms\n",
    "One is standard (0), multiple is a value adder (1)."
   ]
  },
  {
   "cell_type": "code",
   "execution_count": 58,
   "metadata": {
    "collapsed": false
   },
   "outputs": [
    {
     "name": "stderr",
     "output_type": "stream",
     "text": [
      "C:\\Users\\gmignot\\AppData\\Local\\Continuum\\Anaconda3\\lib\\site-packages\\ipykernel\\__main__.py:9: SettingWithCopyWarning: \n",
      "A value is trying to be set on a copy of a slice from a DataFrame\n",
      "\n",
      "See the caveats in the documentation: http://pandas.pydata.org/pandas-docs/stable/indexing.html#indexing-view-versus-copy\n",
      "C:\\Users\\gmignot\\AppData\\Local\\Continuum\\Anaconda3\\lib\\site-packages\\ipykernel\\__main__.py:10: SettingWithCopyWarning: \n",
      "A value is trying to be set on a copy of a slice from a DataFrame\n",
      "\n",
      "See the caveats in the documentation: http://pandas.pydata.org/pandas-docs/stable/indexing.html#indexing-view-versus-copy\n",
      "C:\\Users\\gmignot\\AppData\\Local\\Continuum\\Anaconda3\\lib\\site-packages\\ipykernel\\__main__.py:12: SettingWithCopyWarning: \n",
      "A value is trying to be set on a copy of a slice from a DataFrame\n",
      "\n",
      "See the caveats in the documentation: http://pandas.pydata.org/pandas-docs/stable/indexing.html#indexing-view-versus-copy\n",
      "C:\\Users\\gmignot\\AppData\\Local\\Continuum\\Anaconda3\\lib\\site-packages\\ipykernel\\__main__.py:13: SettingWithCopyWarning: \n",
      "A value is trying to be set on a copy of a slice from a DataFrame\n",
      "\n",
      "See the caveats in the documentation: http://pandas.pydata.org/pandas-docs/stable/indexing.html#indexing-view-versus-copy\n"
     ]
    }
   ],
   "source": [
    "#Filling missing values with 1, as we consider no house has been built without capability for a bathroom/Toilet\n",
    "df1_e['Toilets'] = df1_e['Toilets'].astype(str).astype(float)\n",
    "df1_e['Bathrooms'] = df1_e['Bathrooms'].astype(str).astype(float)\n",
    "\n",
    "df1_e['Toilets'] = df1_e['Toilets'].fillna(float('1'))\n",
    "df1_e['Bathrooms'] = df1_e['Bathrooms'].fillna(float('1'))\n",
    "\n",
    "#All 1's --> 0. All >1 --> 1\n",
    "df1_e['Toilets'][df1_e['Toilets']==1] = float(0) \n",
    "df1_e['Toilets'][df1_e['Toilets']>1] = float(1) \n",
    "\n",
    "df1_e['Bathrooms'][df1_e['Bathrooms']==1] = float(0) \n",
    "df1_e['Bathrooms'][df1_e['Bathrooms']>1] = float(1) "
   ]
  },
  {
   "cell_type": "code",
   "execution_count": 59,
   "metadata": {
    "collapsed": false
   },
   "outputs": [
    {
     "data": {
      "text/plain": [
       "318    0.0\n",
       "345    0.0\n",
       "398    0.0\n",
       "23     1.0\n",
       "Name: Bathrooms, dtype: float64"
      ]
     },
     "execution_count": 59,
     "metadata": {},
     "output_type": "execute_result"
    }
   ],
   "source": [
    "df1_e['Bathrooms'].sample(4)"
   ]
  },
  {
   "cell_type": "markdown",
   "metadata": {},
   "source": [
    "#### Heating\n",
    "Gas and fuel = 1. Others = 0."
   ]
  },
  {
   "cell_type": "code",
   "execution_count": 60,
   "metadata": {
    "collapsed": false
   },
   "outputs": [
    {
     "data": {
      "text/plain": [
       "104    1\n",
       "429    1\n",
       "299    1\n",
       "Name: Heating, dtype: int64"
      ]
     },
     "execution_count": 60,
     "metadata": {},
     "output_type": "execute_result"
    }
   ],
   "source": [
    "#Not specified = 0\n",
    "df1_e['Heating']=df1_e['Heating'].fillna(0)\n",
    "\n",
    "df1_e['Heating'] = [1 if h in ['Gas','Fuel'] else 0 for h in df1_e['Heating']]\n",
    "\n",
    "df1_e['Heating'].sample(3)"
   ]
  },
  {
   "cell_type": "markdown",
   "metadata": {},
   "source": [
    "#### Kitchen setup\n",
    "Is the kitchen equipped (1) or not ?"
   ]
  },
  {
   "cell_type": "code",
   "execution_count": 61,
   "metadata": {
    "collapsed": false
   },
   "outputs": [],
   "source": [
    "#Not specified = 0\n",
    "df1_e['Kitchen setup']=df1_e['Kitchen setup'].fillna(0)\n",
    "\n",
    "df1_e['Kitchen setup'] = [1 if k in ['Installed','USA Hyper-equipped','USA Installed','Hyper-equipped'] else 0 \\\n",
    "                          for k in df1_e['Kitchen setup']]"
   ]
  },
  {
   "cell_type": "code",
   "execution_count": 62,
   "metadata": {
    "collapsed": false
   },
   "outputs": [
    {
     "data": {
      "text/plain": [
       "283    1\n",
       "241    1\n",
       "331    1\n",
       "450    1\n",
       "197    1\n",
       "Name: Kitchen setup, dtype: int64"
      ]
     },
     "execution_count": 62,
     "metadata": {},
     "output_type": "execute_result"
    }
   ],
   "source": [
    "df1_e['Kitchen setup'].sample(5)"
   ]
  },
  {
   "cell_type": "markdown",
   "metadata": {},
   "source": [
    "#### Indoor Parking Spaces\n",
    "This is a really important feature for people living in cities especially. We'll have three stages: not having indoor parking spaces, having one and aving multiple ones."
   ]
  },
  {
   "cell_type": "code",
   "execution_count": 63,
   "metadata": {
    "collapsed": false
   },
   "outputs": [],
   "source": [
    "df1_e['Indoor parkings']=df1_e['Indoor parkings'].fillna(0)\n",
    "df1_e['Indoor parkings']=[2 if p > 1 else p for p in df1_e['Indoor parkings']]"
   ]
  },
  {
   "cell_type": "code",
   "execution_count": 64,
   "metadata": {
    "collapsed": false
   },
   "outputs": [
    {
     "data": {
      "text/plain": [
       "486    1.0\n",
       "129    1.0\n",
       "128    0.0\n",
       "63     0.0\n",
       "26     1.0\n",
       "Name: Indoor parkings, dtype: float64"
      ]
     },
     "execution_count": 64,
     "metadata": {},
     "output_type": "execute_result"
    }
   ],
   "source": [
    "df1_e['Indoor parkings'].sample(5)"
   ]
  },
  {
   "cell_type": "code",
   "execution_count": 65,
   "metadata": {
    "collapsed": false
   },
   "outputs": [
    {
     "name": "stdout",
     "output_type": "stream",
     "text": [
      "<class 'pandas.core.frame.DataFrame'>\n",
      "Int64Index: 488 entries, 0 to 489\n",
      "Data columns (total 14 columns):\n",
      "Bathrooms              488 non-null float64\n",
      "Bedroom 1 area         488 non-null float64\n",
      "Bedrooms               488 non-null float64\n",
      "Double glazing         488 non-null object\n",
      "Heating                488 non-null int64\n",
      "Kitchen setup          488 non-null int64\n",
      "Net floor area         488 non-null float64\n",
      "Number of frontages    488 non-null float64\n",
      "Plot area              488 non-null float64\n",
      "Terrace                488 non-null object\n",
      "Toilets                488 non-null float64\n",
      "Living room area       488 non-null float64\n",
      "Price                  488 non-null float64\n",
      "Indoor parkings        488 non-null float64\n",
      "dtypes: float64(10), int64(2), object(2)\n",
      "memory usage: 57.2+ KB\n"
     ]
    }
   ],
   "source": [
    "df1_e.info()"
   ]
  },
  {
   "cell_type": "code",
   "execution_count": 66,
   "metadata": {
    "collapsed": true
   },
   "outputs": [],
   "source": [
    "#Let's keep a clean dataset as backup and use df2_e (as we'll use df2 as well)\n",
    "df2_e = df1_e.copy()"
   ]
  },
  {
   "cell_type": "code",
   "execution_count": 67,
   "metadata": {
    "collapsed": true
   },
   "outputs": [],
   "source": [
    "df2_e = pd.get_dummies(df2_e,columns=['Double glazing','Terrace'], \\\n",
    "                       prefix=['double_glazing','terrace'])"
   ]
  },
  {
   "cell_type": "code",
   "execution_count": 68,
   "metadata": {
    "collapsed": false
   },
   "outputs": [
    {
     "data": {
      "text/html": [
       "<div>\n",
       "<style scoped>\n",
       "    .dataframe tbody tr th:only-of-type {\n",
       "        vertical-align: middle;\n",
       "    }\n",
       "\n",
       "    .dataframe tbody tr th {\n",
       "        vertical-align: top;\n",
       "    }\n",
       "\n",
       "    .dataframe thead th {\n",
       "        text-align: right;\n",
       "    }\n",
       "</style>\n",
       "<table border=\"1\" class=\"dataframe\">\n",
       "  <thead>\n",
       "    <tr style=\"text-align: right;\">\n",
       "      <th></th>\n",
       "      <th>Bathrooms</th>\n",
       "      <th>Bedroom 1 area</th>\n",
       "      <th>Bedrooms</th>\n",
       "      <th>Heating</th>\n",
       "      <th>Kitchen setup</th>\n",
       "      <th>Net floor area</th>\n",
       "      <th>Number of frontages</th>\n",
       "      <th>Plot area</th>\n",
       "      <th>Toilets</th>\n",
       "      <th>Living room area</th>\n",
       "      <th>Price</th>\n",
       "      <th>Indoor parkings</th>\n",
       "      <th>double_glazing_no</th>\n",
       "      <th>double_glazing_yes</th>\n",
       "      <th>terrace_no</th>\n",
       "      <th>terrace_yes</th>\n",
       "    </tr>\n",
       "  </thead>\n",
       "  <tbody>\n",
       "    <tr>\n",
       "      <th>0</th>\n",
       "      <td>0.0</td>\n",
       "      <td>18.0</td>\n",
       "      <td>3.0</td>\n",
       "      <td>1</td>\n",
       "      <td>0</td>\n",
       "      <td>250.0</td>\n",
       "      <td>4.0</td>\n",
       "      <td>1880.0</td>\n",
       "      <td>1.0</td>\n",
       "      <td>46.0</td>\n",
       "      <td>299000.0</td>\n",
       "      <td>2.0</td>\n",
       "      <td>0</td>\n",
       "      <td>1</td>\n",
       "      <td>0</td>\n",
       "      <td>1</td>\n",
       "    </tr>\n",
       "    <tr>\n",
       "      <th>1</th>\n",
       "      <td>0.0</td>\n",
       "      <td>28.0</td>\n",
       "      <td>3.0</td>\n",
       "      <td>1</td>\n",
       "      <td>1</td>\n",
       "      <td>338.0</td>\n",
       "      <td>3.0</td>\n",
       "      <td>470.0</td>\n",
       "      <td>1.0</td>\n",
       "      <td>73.0</td>\n",
       "      <td>239000.0</td>\n",
       "      <td>1.0</td>\n",
       "      <td>0</td>\n",
       "      <td>1</td>\n",
       "      <td>0</td>\n",
       "      <td>1</td>\n",
       "    </tr>\n",
       "    <tr>\n",
       "      <th>2</th>\n",
       "      <td>1.0</td>\n",
       "      <td>26.0</td>\n",
       "      <td>4.0</td>\n",
       "      <td>1</td>\n",
       "      <td>1</td>\n",
       "      <td>335.0</td>\n",
       "      <td>4.0</td>\n",
       "      <td>794.0</td>\n",
       "      <td>1.0</td>\n",
       "      <td>32.0</td>\n",
       "      <td>1590000.0</td>\n",
       "      <td>2.0</td>\n",
       "      <td>0</td>\n",
       "      <td>1</td>\n",
       "      <td>0</td>\n",
       "      <td>1</td>\n",
       "    </tr>\n",
       "    <tr>\n",
       "      <th>3</th>\n",
       "      <td>0.0</td>\n",
       "      <td>14.0</td>\n",
       "      <td>5.0</td>\n",
       "      <td>1</td>\n",
       "      <td>0</td>\n",
       "      <td>189.0</td>\n",
       "      <td>3.0</td>\n",
       "      <td>1220.0</td>\n",
       "      <td>0.0</td>\n",
       "      <td>14.0</td>\n",
       "      <td>350000.0</td>\n",
       "      <td>1.0</td>\n",
       "      <td>1</td>\n",
       "      <td>0</td>\n",
       "      <td>1</td>\n",
       "      <td>0</td>\n",
       "    </tr>\n",
       "    <tr>\n",
       "      <th>4</th>\n",
       "      <td>0.0</td>\n",
       "      <td>13.0</td>\n",
       "      <td>2.0</td>\n",
       "      <td>1</td>\n",
       "      <td>1</td>\n",
       "      <td>120.0</td>\n",
       "      <td>2.0</td>\n",
       "      <td>115.0</td>\n",
       "      <td>1.0</td>\n",
       "      <td>24.0</td>\n",
       "      <td>195000.0</td>\n",
       "      <td>0.0</td>\n",
       "      <td>0</td>\n",
       "      <td>1</td>\n",
       "      <td>0</td>\n",
       "      <td>1</td>\n",
       "    </tr>\n",
       "  </tbody>\n",
       "</table>\n",
       "</div>"
      ],
      "text/plain": [
       "   Bathrooms  Bedroom 1 area  Bedrooms  Heating  Kitchen setup  \\\n",
       "0        0.0            18.0       3.0        1              0   \n",
       "1        0.0            28.0       3.0        1              1   \n",
       "2        1.0            26.0       4.0        1              1   \n",
       "3        0.0            14.0       5.0        1              0   \n",
       "4        0.0            13.0       2.0        1              1   \n",
       "\n",
       "   Net floor area  Number of frontages  Plot area  Toilets  Living room area  \\\n",
       "0           250.0                  4.0     1880.0      1.0              46.0   \n",
       "1           338.0                  3.0      470.0      1.0              73.0   \n",
       "2           335.0                  4.0      794.0      1.0              32.0   \n",
       "3           189.0                  3.0     1220.0      0.0              14.0   \n",
       "4           120.0                  2.0      115.0      1.0              24.0   \n",
       "\n",
       "       Price  Indoor parkings  double_glazing_no  double_glazing_yes  \\\n",
       "0   299000.0              2.0                  0                   1   \n",
       "1   239000.0              1.0                  0                   1   \n",
       "2  1590000.0              2.0                  0                   1   \n",
       "3   350000.0              1.0                  1                   0   \n",
       "4   195000.0              0.0                  0                   1   \n",
       "\n",
       "   terrace_no  terrace_yes  \n",
       "0           0            1  \n",
       "1           0            1  \n",
       "2           0            1  \n",
       "3           1            0  \n",
       "4           0            1  "
      ]
     },
     "execution_count": 68,
     "metadata": {},
     "output_type": "execute_result"
    }
   ],
   "source": [
    "df2_e.head(5)"
   ]
  },
  {
   "cell_type": "markdown",
   "metadata": {},
   "source": [
    "### Let's now have a look at the data and remove eventual outliers"
   ]
  },
  {
   "cell_type": "code",
   "execution_count": 69,
   "metadata": {
    "collapsed": false
   },
   "outputs": [],
   "source": [
    "#Histogram of Price:\n",
    "\n",
    "from scipy import stats\n",
    "from scipy.stats import norm\n",
    "\n",
    "def normality_check(df,feature):\n",
    "    sns.distplot(df[feature] , fit=norm);\n",
    "\n",
    "    # Get the fitted parameters used by the function\n",
    "    (mu, sigma) = norm.fit(df[feature])\n",
    "    print( '\\n mu = {:.2f} and sigma = {:.2f}\\n'.format(mu, sigma))\n",
    "    plt.legend(['Normal dist. ($\\mu=$ {:.2f} and $\\sigma=$ {:.2f} )'.format(mu, sigma)],\n",
    "                loc='best')\n",
    "    plt.ylabel('Frequency')\n",
    "    plt.title(str(feature) + ' distribution')\n",
    "\n",
    "    fig = plt.figure()\n",
    "    res = stats.probplot(df[feature], plot=plt)\n",
    "    plt.show()\n",
    "\n",
    "    print(\"Skewness: %f\" % df[feature].skew())\n",
    "    print(\"Kurtosis: %f\" % df[feature].kurt())"
   ]
  },
  {
   "cell_type": "code",
   "execution_count": 70,
   "metadata": {
    "collapsed": false
   },
   "outputs": [
    {
     "name": "stdout",
     "output_type": "stream",
     "text": [
      "\n",
      " mu = 450178.79 and sigma = 427155.88\n",
      "\n"
     ]
    },
    {
     "data": {
      "image/png": "[encoded data removed]",
      "text/plain": [
       "<matplotlib.figure.Figure at 0x2708323e198>"
      ]
     },
     "metadata": {},
     "output_type": "display_data"
    },
    {
     "data": {
      "image/png": "[encoded data removed]",
      "text/plain": [
       "<matplotlib.figure.Figure at 0x27082e26b38>"
      ]
     },
     "metadata": {},
     "output_type": "display_data"
    },
    {
     "name": "stdout",
     "output_type": "stream",
     "text": [
      "Skewness: 4.244211\n",
      "Kurtosis: 27.153788\n"
     ]
    }
   ],
   "source": [
    "normality_check(df2,'Price')"
   ]
  },
  {
   "cell_type": "markdown",
   "metadata": {},
   "source": [
    "The histogram is clear, our distribution is significantly different from normal distribution with same median and stdev.\n",
    "Also, we can see on the probability plot that we do not have a normal distribution (normal is in red, ours in blue). <br>\n",
    "A normal distribution has a Skewness of zero --> Here we have 4.24 which confirms it is not normal. The high kurtosis tells us we have a lot of weight in the tails (combined). <br>\n",
    "<b>For now:</b> let's keep the data as it is. Later, we'll try to make it more normal to see if we can improve our results !"
   ]
  }
 ],
 "metadata": {
  "kernelspec": {
   "display_name": "Python 3",
   "language": "python",
   "name": "python3"
  },
  "language_info": {
   "codemirror_mode": {
    "name": "ipython",
    "version": 3
   },
   "file_extension": ".py",
   "mimetype": "text/x-python",
   "name": "python",
   "nbconvert_exporter": "python",
   "pygments_lexer": "ipython3",
   "version": "3.6.0"
  }
 },
 "nbformat": 4,
 "nbformat_minor": 2
}
